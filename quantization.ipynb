{
  "nbformat": 4,
  "nbformat_minor": 0,
  "metadata": {
    "colab": {
      "provenance": []
    },
    "kernelspec": {
      "name": "python3",
      "display_name": "Python 3"
    },
    "language_info": {
      "name": "python"
    }
  },
  "cells": [
    {
      "cell_type": "markdown",
      "source": [
        "**Add library**"
      ],
      "metadata": {
        "id": "BgkWcezGv982"
      }
    },
    {
      "cell_type": "code",
      "execution_count": 12,
      "metadata": {
        "id": "xonw3sSWvWmV"
      },
      "outputs": [],
      "source": [
        "import numpy as np"
      ]
    },
    {
      "cell_type": "markdown",
      "source": [
        "**Given vector**"
      ],
      "metadata": {
        "id": "u8fUA2SKvlFy"
      }
    },
    {
      "cell_type": "code",
      "source": [
        "v = np.array([3.2, -1.4, 2.5, -0.9, 1.8, -3.7, 0.0, 4.0, 2.2, -1.3])"
      ],
      "metadata": {
        "id": "j14S5Ii0vsf8"
      },
      "execution_count": 13,
      "outputs": []
    },
    {
      "cell_type": "markdown",
      "source": [
        "**Quantization levels (uniformly spaced between -4 and 4 for 3-bit quantization)**"
      ],
      "metadata": {
        "id": "PpyMKGpfvxkz"
      }
    },
    {
      "cell_type": "code",
      "source": [
        "quantization_levels = np.linspace(-4, 4, 8)"
      ],
      "metadata": {
        "id": "2x8It4aNv2co"
      },
      "execution_count": 14,
      "outputs": []
    },
    {
      "cell_type": "markdown",
      "source": [
        "**Function to quantize each element of the vector**"
      ],
      "metadata": {
        "id": "ypgS3DnSv8qH"
      }
    },
    {
      "cell_type": "code",
      "source": [
        "def quantize_vector(vector, levels):\n",
        "    quantized_vector = np.zeros_like(vector)\n",
        "    for i, val in enumerate(vector):\n",
        "        # Find the closest level in the quantization grid\n",
        "        quantized_vector[i] = levels[np.argmin(np.abs(levels - val))]\n",
        "    return quantized_vector"
      ],
      "metadata": {
        "id": "LzSFgsySwKjJ"
      },
      "execution_count": 23,
      "outputs": []
    },
    {
      "cell_type": "markdown",
      "source": [
        "**Quantize the vector**"
      ],
      "metadata": {
        "id": "nFnhpT2EwSWG"
      }
    },
    {
      "cell_type": "code",
      "source": [
        "quantized_v = quantize_vector(v, quantization_levels)"
      ],
      "metadata": {
        "id": "HlOiIeLFwYBq"
      },
      "execution_count": 24,
      "outputs": []
    },
    {
      "cell_type": "markdown",
      "source": [
        "**Calculate the L2 norm (optimization metric)**"
      ],
      "metadata": {
        "id": "Qj1-V2_6wc0B"
      }
    },
    {
      "cell_type": "code",
      "source": [
        "l2_norm = np.linalg.norm(v - quantized_v)"
      ],
      "metadata": {
        "id": "viiJDgKJwhFX"
      },
      "execution_count": 25,
      "outputs": []
    },
    {
      "cell_type": "markdown",
      "source": [
        "**Display the results**"
      ],
      "metadata": {
        "id": "a3YtjlpFwmbB"
      }
    },
    {
      "cell_type": "code",
      "source": [
        "print(\"Original Vector:\", v)\n",
        "print(\"Quantized Vector:\", quantized_v)\n",
        "print(\"L2 Norm:\", l2_norm)"
      ],
      "metadata": {
        "colab": {
          "base_uri": "https://localhost:8080/"
        },
        "id": "g6h1zrhKwp85",
        "outputId": "2f7a1bd6-3fbf-4839-9d0b-ead12da32c2e"
      },
      "execution_count": 26,
      "outputs": [
        {
          "output_type": "stream",
          "name": "stdout",
          "text": [
            "Original Vector: [ 3.2 -1.4  2.5 -0.9  1.8 -3.7  0.   4.   2.2 -1.3]\n",
            "Quantized Vector: [ 2.85714286 -1.71428571  2.85714286 -0.57142857  1.71428571 -4.\n",
            "  0.57142857  4.          1.71428571 -1.71428571]\n",
            "L2 Norm: 1.132813005805658\n"
          ]
        }
      ]
    }
  ]
}